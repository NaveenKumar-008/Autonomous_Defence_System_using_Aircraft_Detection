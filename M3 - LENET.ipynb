{
 "cells": [
  {
   "cell_type": "markdown",
   "metadata": {},
   "source": [
    "# LENET ARCHITECTURE"
   ]
  },
  {
   "cell_type": "code",
   "execution_count": 1,
   "metadata": {},
   "outputs": [],
   "source": [
    "import warnings\n",
    "warnings.filterwarnings('ignore')\n",
    "\n",
    "# import os\n",
    "# os.environ['KMP_DUPLICATE_LIB_OK']=\"TRUE\""
   ]
  },
  {
   "cell_type": "code",
   "execution_count": 2,
   "metadata": {},
   "outputs": [
    {
     "name": "stdout",
     "output_type": "stream",
     "text": [
      "WARNING:tensorflow:From C:\\Users\\Naveen Kumar\\anaconda3\\envs\\aircraft\\lib\\site-packages\\keras\\src\\losses.py:2976: The name tf.losses.sparse_softmax_cross_entropy is deprecated. Please use tf.compat.v1.losses.sparse_softmax_cross_entropy instead.\n",
      "\n",
      "2.15.0\n"
     ]
    }
   ],
   "source": [
    "import tensorflow\n",
    "import tensorflow as tf\n",
    "print(tf.__version__)\n",
    "\n",
    "from tensorflow.keras.models import Sequential\n",
    "\n",
    "from tensorflow.keras.layers import Conv2D\n",
    "from tensorflow.keras.layers import Convolution2D\n",
    "from tensorflow.keras.layers import MaxPool2D\n",
    "from tensorflow.keras.layers import MaxPooling2D\n",
    "from tensorflow.keras.layers import Flatten\n",
    "from tensorflow.keras.layers import Dense\n",
    "from tensorflow.keras.layers import Dropout\n",
    "from tensorflow.keras.layers import Activation"
   ]
  },
  {
   "cell_type": "code",
   "execution_count": 3,
   "metadata": {},
   "outputs": [
    {
     "name": "stdout",
     "output_type": "stream",
     "text": [
      "Found 5735 images belonging to 30 classes.\n"
     ]
    }
   ],
   "source": [
    "from tensorflow.keras.preprocessing.image import ImageDataGenerator\n",
    "\n",
    "train=ImageDataGenerator(rescale=1./255,shear_range=0.2,zoom_range=0.2,horizontal_flip=True,validation_split = 0.2)\n",
    "train_data=train.flow_from_directory(directory = 'dataset/train',target_size=(224,224),\n",
    "                                     batch_size=32,class_mode='categorical')"
   ]
  },
  {
   "cell_type": "code",
   "execution_count": 4,
   "metadata": {},
   "outputs": [
    {
     "name": "stdout",
     "output_type": "stream",
     "text": [
      "Found 2081 images belonging to 30 classes.\n"
     ]
    }
   ],
   "source": [
    "test=ImageDataGenerator(rescale=1./255)\n",
    "test_data=test.flow_from_directory(directory = 'dataset/test',target_size=(224,224),\n",
    "                                   batch_size=32,class_mode='categorical')"
   ]
  },
  {
   "cell_type": "code",
   "execution_count": 5,
   "metadata": {},
   "outputs": [
    {
     "name": "stdout",
     "output_type": "stream",
     "text": [
      "WARNING:tensorflow:From C:\\Users\\Naveen Kumar\\anaconda3\\envs\\aircraft\\lib\\site-packages\\keras\\src\\backend.py:873: The name tf.get_default_graph is deprecated. Please use tf.compat.v1.get_default_graph instead.\n",
      "\n",
      "WARNING:tensorflow:From C:\\Users\\Naveen Kumar\\anaconda3\\envs\\aircraft\\lib\\site-packages\\keras\\src\\layers\\pooling\\max_pooling2d.py:161: The name tf.nn.max_pool is deprecated. Please use tf.nn.max_pool2d instead.\n",
      "\n",
      "Model: \"sequential\"\n",
      "_________________________________________________________________\n",
      " Layer (type)                Output Shape              Param #   \n",
      "=================================================================\n",
      " conv2d (Conv2D)             (None, 74, 74, 32)        896       \n",
      "                                                                 \n",
      " max_pooling2d (MaxPooling2  (None, 37, 37, 32)        0         \n",
      " D)                                                              \n",
      "                                                                 \n",
      " conv2d_1 (Conv2D)           (None, 12, 12, 128)       36992     \n",
      "                                                                 \n",
      " max_pooling2d_1 (MaxPoolin  (None, 6, 6, 128)         0         \n",
      " g2D)                                                            \n",
      "                                                                 \n",
      " flatten (Flatten)           (None, 4608)              0         \n",
      "                                                                 \n",
      " dense (Dense)               (None, 256)               1179904   \n",
      "                                                                 \n",
      " dense_1 (Dense)             (None, 30)                7710      \n",
      "                                                                 \n",
      "=================================================================\n",
      "Total params: 1225502 (4.67 MB)\n",
      "Trainable params: 1225502 (4.67 MB)\n",
      "Non-trainable params: 0 (0.00 Byte)\n",
      "_________________________________________________________________\n"
     ]
    }
   ],
   "source": [
    "MODEL=Sequential()\n",
    "MODEL.add(Convolution2D(filters=32, kernel_size=(3,3), strides=(3,3), input_shape=(224,224,3), padding=('valid'), activation='relu'))\n",
    "MODEL.add(MaxPooling2D(pool_size=(2,2), strides=(2,2), padding='valid'))\n",
    "MODEL.add(Convolution2D(filters=128, kernel_size=(3,3), strides=(3,3), padding=('valid'), activation='relu'))\n",
    "MODEL.add(MaxPooling2D(pool_size=(2,2), strides=(2,2), padding='valid'))\n",
    "MODEL.add(Flatten())\n",
    "MODEL.add(Dense(256, activation='relu'))\n",
    "MODEL.add(Dense(30, activation='softmax'))\n",
    "\n",
    "OPT    = tensorflow.keras.optimizers.Adam(0.001)\n",
    "\n",
    "MODEL.compile(optimizer=OPT,loss='categorical_crossentropy',metrics=[\"accuracy\", tensorflow.keras.metrics.Precision(), tensorflow.keras.metrics.Recall()])\n",
    "MODEL.summary()"
   ]
  },
  {
   "cell_type": "code",
   "execution_count": 6,
   "metadata": {},
   "outputs": [],
   "source": [
    "model_path = \"MODEL.h5\"\n",
    "\n",
    "from tensorflow.keras.callbacks import ModelCheckpoint\n",
    "\n",
    "M = ModelCheckpoint(model_path, monitor='accuracy', verbose=1, save_best_only=True, mode='max')"
   ]
  },
  {
   "cell_type": "code",
   "execution_count": 7,
   "metadata": {},
   "outputs": [],
   "source": [
    "epochs = 100\n",
    "batch_size = 32"
   ]
  },
  {
   "cell_type": "code",
   "execution_count": null,
   "metadata": {},
   "outputs": [
    {
     "name": "stdout",
     "output_type": "stream",
     "text": [
      "Epoch 1/100\n",
      "WARNING:tensorflow:From C:\\Users\\Naveen Kumar\\anaconda3\\envs\\aircraft\\lib\\site-packages\\keras\\src\\utils\\tf_utils.py:492: The name tf.ragged.RaggedTensorValue is deprecated. Please use tf.compat.v1.ragged.RaggedTensorValue instead.\n",
      "\n",
      "WARNING:tensorflow:From C:\\Users\\Naveen Kumar\\anaconda3\\envs\\aircraft\\lib\\site-packages\\keras\\src\\engine\\base_layer_utils.py:384: The name tf.executing_eagerly_outside_functions is deprecated. Please use tf.compat.v1.executing_eagerly_outside_functions instead.\n",
      "\n",
      "179/179 [==============================] - ETA: 0s - loss: 3.1085 - accuracy: 0.1345 - precision: 0.8000 - recall: 0.0014  \n",
      "Epoch 1: accuracy improved from -inf to 0.13449, saving model to MODEL.h5\n",
      "179/179 [==============================] - 199s 1s/step - loss: 3.1085 - accuracy: 0.1345 - precision: 0.8000 - recall: 0.0014 - val_loss: 3.5093 - val_accuracy: 0.0774 - val_precision: 0.6857 - val_recall: 0.0115\n",
      "Epoch 2/100\n",
      "179/179 [==============================] - ETA: 0s - loss: 2.8540 - accuracy: 0.2111 - precision: 0.7374 - recall: 0.0256\n",
      "Epoch 2: accuracy improved from 0.13449 to 0.21112, saving model to MODEL.h5\n",
      "179/179 [==============================] - 120s 672ms/step - loss: 2.8540 - accuracy: 0.2111 - precision: 0.7374 - recall: 0.0256 - val_loss: 3.1481 - val_accuracy: 0.1447 - val_precision: 0.8167 - val_recall: 0.0236\n",
      "Epoch 3/100\n",
      "179/179 [==============================] - ETA: 0s - loss: 2.6696 - accuracy: 0.2664 - precision: 0.7612 - recall: 0.0565\n",
      "Epoch 3: accuracy improved from 0.21112 to 0.26635, saving model to MODEL.h5\n",
      "179/179 [==============================] - 118s 660ms/step - loss: 2.6696 - accuracy: 0.2664 - precision: 0.7612 - recall: 0.0565 - val_loss: 2.9493 - val_accuracy: 0.1875 - val_precision: 0.6667 - val_recall: 0.0394\n",
      "Epoch 4/100\n",
      "179/179 [==============================] - ETA: 0s - loss: 2.4979 - accuracy: 0.3063 - precision: 0.7477 - recall: 0.0868\n",
      "Epoch 4: accuracy improved from 0.26635 to 0.30633, saving model to MODEL.h5\n",
      "179/179 [==============================] - 123s 687ms/step - loss: 2.4979 - accuracy: 0.3063 - precision: 0.7477 - recall: 0.0868 - val_loss: 2.7739 - val_accuracy: 0.2389 - val_precision: 0.5652 - val_recall: 0.0875\n",
      "Epoch 5/100\n",
      "179/179 [==============================] - ETA: 0s - loss: 2.3405 - accuracy: 0.3474 - precision: 0.7852 - recall: 0.1243\n",
      "Epoch 5: accuracy improved from 0.30633 to 0.34736, saving model to MODEL.h5\n",
      "179/179 [==============================] - 117s 657ms/step - loss: 2.3405 - accuracy: 0.3474 - precision: 0.7852 - recall: 0.1243 - val_loss: 2.6028 - val_accuracy: 0.2880 - val_precision: 0.6073 - val_recall: 0.1115\n",
      "Epoch 6/100\n",
      "179/179 [==============================] - ETA: 0s - loss: 2.2220 - accuracy: 0.3838 - precision: 0.7728 - recall: 0.1562\n",
      "Epoch 6: accuracy improved from 0.34736 to 0.38383, saving model to MODEL.h5\n",
      "179/179 [==============================] - 117s 656ms/step - loss: 2.2220 - accuracy: 0.3838 - precision: 0.7728 - recall: 0.1562 - val_loss: 2.6270 - val_accuracy: 0.2736 - val_precision: 0.5343 - val_recall: 0.1462\n",
      "Epoch 7/100\n",
      "  5/179 [..............................] - ETA: 1:45 - loss: 2.0193 - accuracy: 0.4437 - precision: 0.8444 - recall: 0.2375"
     ]
    }
   ],
   "source": [
    "WORKING = MODEL.fit_generator(\n",
    "           train_data, steps_per_epoch=train_data.samples // batch_size, \n",
    "           epochs=epochs, \n",
    "           validation_data=test_data,validation_steps=test_data.samples // batch_size,\n",
    "           callbacks=[M])"
   ]
  },
  {
   "cell_type": "code",
   "execution_count": null,
   "metadata": {},
   "outputs": [],
   "source": [
    "WORKING.history.keys()\n"
   ]
  },
  {
   "cell_type": "code",
   "execution_count": null,
   "metadata": {},
   "outputs": [],
   "source": [
    "import matplotlib.pyplot as plt\n",
    "import numpy as np\n",
    "\n",
    "plt.figure(figsize=(20, 8))\n",
    "plt.plot(WORKING.history['accuracy'])\n",
    "\n",
    "for i in range(epochs):\n",
    "    if i%5 == 0:\n",
    "        plt.annotate(np.round(WORKING.history['accuracy'][i]*100,2),xy=(i,WORKING.history['accuracy'][i]))\n",
    "\n",
    "plt.title('Model accuracy')\n",
    "plt.ylabel('Accuracy')\n",
    "plt.xlabel('Epoch')\n",
    "plt.show()"
   ]
  },
  {
   "cell_type": "code",
   "execution_count": null,
   "metadata": {},
   "outputs": [],
   "source": [
    "import matplotlib.pyplot as plt\n",
    "\n",
    "plt.figure(figsize=(20, 8))\n",
    "plt.plot(WORKING.history['loss'])\n",
    "\n",
    "for i in range(epochs):\n",
    "    if i%5 == 0:\n",
    "        plt.annotate(np.round(WORKING.history['loss'][i]*100,2),xy=(i,WORKING.history['loss'][i]))\n",
    "\n",
    "plt.title('Model Loss')\n",
    "plt.ylabel('Loss')\n",
    "plt.xlabel('Epoch')\n",
    "plt.show()"
   ]
  },
  {
   "cell_type": "code",
   "execution_count": null,
   "metadata": {},
   "outputs": [],
   "source": []
  },
  {
   "cell_type": "code",
   "execution_count": null,
   "metadata": {},
   "outputs": [],
   "source": []
  },
  {
   "cell_type": "code",
   "execution_count": null,
   "metadata": {},
   "outputs": [],
   "source": []
  },
  {
   "cell_type": "code",
   "execution_count": null,
   "metadata": {},
   "outputs": [],
   "source": []
  }
 ],
 "metadata": {
  "kernelspec": {
   "display_name": "Python 3 (ipykernel)",
   "language": "python",
   "name": "python3"
  },
  "language_info": {
   "codemirror_mode": {
    "name": "ipython",
    "version": 3
   },
   "file_extension": ".py",
   "mimetype": "text/x-python",
   "name": "python",
   "nbconvert_exporter": "python",
   "pygments_lexer": "ipython3",
   "version": "3.9.18"
  }
 },
 "nbformat": 4,
 "nbformat_minor": 4
}
